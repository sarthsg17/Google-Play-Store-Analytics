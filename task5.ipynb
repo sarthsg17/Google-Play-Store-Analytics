{
 "cells": [
  {
   "cell_type": "code",
   "execution_count": 76,
   "id": "2156ada0-da99-4f90-86b8-d42a594e0310",
   "metadata": {},
   "outputs": [],
   "source": [
    "import pandas as pd\n",
    "import numpy as np\n",
    "import seaborn as sns\n",
    "import matplotlib.pyplot as plt\n",
    "from datetime import datetime\n",
    "import pytz\n",
    "import io\n",
    "import base64"
   ]
  },
  {
   "cell_type": "code",
   "execution_count": 77,
   "id": "bcf50ce2-9311-4f17-8820-5f901fe0e63b",
   "metadata": {},
   "outputs": [],
   "source": [
    "df = pd.read_csv(\"Play Store Data.csv\")"
   ]
  },
  {
   "cell_type": "code",
   "execution_count": 78,
   "id": "72fad991-bb9f-41c7-896c-86394082aa70",
   "metadata": {},
   "outputs": [],
   "source": [
    "df = df[df['Installs'] != 'Free']"
   ]
  },
  {
   "cell_type": "code",
   "execution_count": 79,
   "id": "56b008ff-8983-4a83-873b-1080bf9dc5fe",
   "metadata": {},
   "outputs": [],
   "source": [
    "df['Installs'] = df['Installs'].str.replace('[+,]', '', regex=True).astype(float)\n",
    "df['Reviews'] = pd.to_numeric(df['Reviews'], errors='coerce')\n",
    "df['Last Updated'] = pd.to_datetime(df['Last Updated'], errors='coerce')"
   ]
  },
  {
   "cell_type": "code",
   "execution_count": 80,
   "id": "436aceb2-ca59-4727-8aa0-f07255a53381",
   "metadata": {},
   "outputs": [],
   "source": [
    "df.dropna(subset=['App', 'Category', 'Reviews', 'Installs', 'Last Updated'], inplace=True)"
   ]
  },
  {
   "cell_type": "code",
   "execution_count": 81,
   "id": "dcff9d4d-a810-434c-a780-71f9806cb13b",
   "metadata": {},
   "outputs": [],
   "source": [
    "filtered_df = df[\n",
    "    (~df['App'].str.lower().str.startswith(('x', 'y', 'z'))) &\n",
    "    (df['Category'].str.upper().str.startswith(('E', 'C', 'B'))) &\n",
    "    (df['Reviews'] > 500)\n",
    "].copy()"
   ]
  },
  {
   "cell_type": "code",
   "execution_count": 82,
   "id": "94b18128-4614-4031-9443-0f3a81dc7469",
   "metadata": {},
   "outputs": [],
   "source": [
    "filtered_df['Month'] = filtered_df['Last Updated'].dt.to_period('M').dt.to_timestamp()"
   ]
  },
  {
   "cell_type": "code",
   "execution_count": 83,
   "id": "33b52f40-8b4d-4f11-8f01-dff0085d3afb",
   "metadata": {},
   "outputs": [],
   "source": [
    "grouped_df = filtered_df.groupby(['Month', 'Category'])['Installs'].sum().reset_index()"
   ]
  },
  {
   "cell_type": "code",
   "execution_count": 84,
   "id": "c0af8a00-101d-4936-a2f3-d8f3c79370c5",
   "metadata": {},
   "outputs": [],
   "source": [
    "grouped_df['Prev_Installs'] = grouped_df.groupby('Category')['Installs'].shift(1)\n",
    "grouped_df['Growth_%'] = ((grouped_df['Installs'] - grouped_df['Prev_Installs']) / grouped_df['Prev_Installs']) * 100"
   ]
  },
  {
   "cell_type": "code",
   "execution_count": 85,
   "id": "8bfa92ab-11df-4cd4-8ae7-fbc472fb646e",
   "metadata": {},
   "outputs": [
    {
     "data": {
      "text/plain": [
       "0"
      ]
     },
     "execution_count": 85,
     "metadata": {},
     "output_type": "execute_result"
    }
   ],
   "source": [
    "plt.figure(figsize=(14, 7))\n",
    "sns.set(style=\"whitegrid\")\n",
    "\n",
    "for category in grouped_df['Category'].unique():\n",
    "    cat_data = grouped_df[grouped_df['Category'] == category]\n",
    "    plt.plot(cat_data['Month'], cat_data['Installs'], label=category)\n",
    "    for i in range(1, len(cat_data)):\n",
    "        if cat_data.iloc[i]['Growth_%'] > 20:\n",
    "            plt.fill_between(\n",
    "                [cat_data.iloc[i - 1]['Month'], cat_data.iloc[i]['Month']],\n",
    "                [cat_data.iloc[i - 1]['Installs'], cat_data.iloc[i]['Installs']],\n",
    "                color='orange', alpha=0.3\n",
    "            )\n",
    "\n",
    "plt.title('Monthly Install Trends by App Category (MoM Growth > 20%)')\n",
    "plt.xlabel('Month')\n",
    "plt.ylabel('Total Installs')\n",
    "plt.legend(title='Category')\n",
    "plt.tight_layout()\n",
    "buf = io.BytesIO()\n",
    "plt.savefig(buf, format='png', bbox_inches='tight')\n",
    "plt.close()\n",
    "buf.seek(0)"
   ]
  },
  {
   "cell_type": "code",
   "execution_count": 86,
   "id": "d99b3ba6-58fd-4d62-98ac-c611f5f100cf",
   "metadata": {},
   "outputs": [],
   "source": [
    "image_base64 = base64.b64encode(buf.read()).decode(\"utf-8\")\n",
    "image_tag = f'<img src=\"data:image/png;base64,{image_base64}\" alt=\"Install Trend Graph\" style=\"width:90%;\">'\n",
    "\n",
    "html_output = f\"\"\"\n",
    "<!DOCTYPE html>\n",
    "<html>\n",
    "<head>\n",
    "    <title>App Installs Trend</title>\n",
    "    <script>\n",
    "        function isISTBetween6and9PM() {{\n",
    "            let now = new Date();\n",
    "            let istOffset = 330; // IST = UTC +5:30\n",
    "            let utc = now.getTime() + now.getTimezoneOffset() * 60000;\n",
    "            let istTime = new Date(utc + (60000 * istOffset));\n",
    "            let hour = istTime.getHours();\n",
    "            return hour >= 18 && hour < 21;\n",
    "        }}\n",
    "\n",
    "        window.onload = function () {{\n",
    "            if (isISTBetween6and9PM()) {{\n",
    "                document.getElementById(\"plot\").style.display = \"block\";\n",
    "            }} else {{\n",
    "                document.getElementById(\"message\").style.display = \"block\";\n",
    "            }}\n",
    "        }};\n",
    "    </script>\n",
    "</head>\n",
    "<body>\n",
    "    <h2 style=\"text-align:center;\">Monthly App Installs by Category (MoM Growth > 20%)</h2>\n",
    "    <p style=\"text-align:center;\">Filtered: App name not starting with X/Y/Z, categories starting with B/C/E, reviews > 500</p>\n",
    "\n",
    "    <div id=\"plot\" style=\"display:none; text-align:center;\">\n",
    "        {image_tag}\n",
    "    </div>\n",
    "\n",
    "    <div id=\"message\" style=\"display:none; text-align:center; font-size:20px; padding:50px;\">\n",
    "         This chart is visible only between 6 PM and 9 PM IST.\n",
    "    </div>\n",
    "</body>\n",
    "</html>\n",
    "\"\"\"\n",
    "\n",
    "# Save to file\n",
    "with open(\"task5.html\", \"w\", encoding=\"utf-8\") as f:\n",
    "    f.write(html_output)\n",
    "\n"
   ]
  },
  {
   "cell_type": "code",
   "execution_count": null,
   "id": "1d35fc60-49a0-4f90-8086-7f96639974d0",
   "metadata": {},
   "outputs": [],
   "source": []
  }
 ],
 "metadata": {
  "kernelspec": {
   "display_name": "Python 3 (ipykernel)",
   "language": "python",
   "name": "python3"
  },
  "language_info": {
   "codemirror_mode": {
    "name": "ipython",
    "version": 3
   },
   "file_extension": ".py",
   "mimetype": "text/x-python",
   "name": "python",
   "nbconvert_exporter": "python",
   "pygments_lexer": "ipython3",
   "version": "3.12.7"
  }
 },
 "nbformat": 4,
 "nbformat_minor": 5
}
