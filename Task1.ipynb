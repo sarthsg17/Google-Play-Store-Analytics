{
 "cells": [
  {
   "cell_type": "code",
   "execution_count": 11,
   "id": "0db37068-8bac-434e-b600-058519b5e3ed",
   "metadata": {},
   "outputs": [],
   "source": [
    "import matplotlib.pyplot as plt\n",
    "import seaborn as sns\n",
    "import numpy as np\n",
    "import pandas as pd\n",
    "import base64\n",
    "import io"
   ]
  },
  {
   "cell_type": "code",
   "execution_count": 12,
   "id": "281a0a64-670b-40e4-8f1e-5dd31479db2d",
   "metadata": {},
   "outputs": [],
   "source": [
    "apps_df = pd.read_csv(\"Play Store Data.csv\")\n",
    "reviews_df = pd.read_csv(\"User Reviews.csv\")"
   ]
  },
  {
   "cell_type": "code",
   "execution_count": 13,
   "id": "79d9f53c-9c17-4502-95d8-392852b76baa",
   "metadata": {},
   "outputs": [],
   "source": [
    "apps_df.dropna(subset=['App', 'Category', 'Reviews', 'Rating'], inplace=True)\n",
    "apps_df['Reviews'] = pd.to_numeric(apps_df['Reviews'], errors='coerce')\n",
    "apps_df = apps_df[apps_df['Reviews'] > 1000]"
   ]
  },
  {
   "cell_type": "code",
   "execution_count": 14,
   "id": "56a3a44f-e1bb-4378-9088-0182eb8c003d",
   "metadata": {},
   "outputs": [],
   "source": [
    "merged_df = pd.merge(reviews_df, apps_df, on='App')"
   ]
  },
  {
   "cell_type": "code",
   "execution_count": 15,
   "id": "9192e3c1-0d88-4156-acd7-9ac24706abbd",
   "metadata": {},
   "outputs": [],
   "source": [
    "merged_df.dropna(subset=['Sentiment', 'Rating', 'Category'], inplace=True)"
   ]
  },
  {
   "cell_type": "code",
   "execution_count": 16,
   "id": "466a27e4-ddf0-4137-8174-1e120f34c15d",
   "metadata": {},
   "outputs": [],
   "source": [
    "def rating_group(rating):\n",
    "    if rating <= 2:\n",
    "        return '1-2 Stars'\n",
    "    elif rating <= 4:\n",
    "        return '3-4 Stars'\n",
    "    else:\n",
    "        return '4-5 Stars'\n",
    "\n",
    "merged_df['Rating Group'] = merged_df['Rating'].apply(rating_group)\n"
   ]
  },
  {
   "cell_type": "code",
   "execution_count": 17,
   "id": "278755b5-4b6e-411d-ae23-aac71e97266f",
   "metadata": {},
   "outputs": [],
   "source": [
    "top_categories = merged_df['Category'].value_counts().nlargest(5).index\n",
    "filtered_df = merged_df[merged_df['Category'].isin(top_categories)]\n"
   ]
  },
  {
   "cell_type": "code",
   "execution_count": 18,
   "id": "cdfcb60f-d1d2-49c7-b61c-276c7150081f",
   "metadata": {},
   "outputs": [],
   "source": [
    "grouped = filtered_df.groupby(['Category', 'Rating Group', 'Sentiment']).size().reset_index(name='Count')\n",
    "pivot_df = grouped.pivot_table(index=['Category', 'Rating Group'], columns='Sentiment', values='Count', fill_value=0).reset_index()"
   ]
  },
  {
   "cell_type": "code",
   "execution_count": 19,
   "id": "dcb5730b-890e-4c34-a5e8-49e4a22043c8",
   "metadata": {},
   "outputs": [
    {
     "data": {
      "text/plain": [
       "0"
      ]
     },
     "execution_count": 19,
     "metadata": {},
     "output_type": "execute_result"
    }
   ],
   "source": [
    "sns.set(style=\"whitegrid\")\n",
    "\n",
    "fig, ax = plt.subplots(figsize=(12, 8))\n",
    "\n",
    "pivot_df['Combined'] = pivot_df['Category'] + ' | ' + pivot_df['Rating Group']\n",
    "x = np.arange(len(pivot_df))\n",
    "\n",
    "ax.bar(x, pivot_df.get('Positive', 0), label='Positive', color='green')\n",
    "ax.bar(x, pivot_df.get('Neutral', 0), bottom=pivot_df.get('Positive', 0), label='Neutral', color='gray')\n",
    "bottom = pivot_df.get('Positive', 0) + pivot_df.get('Neutral', 0)\n",
    "ax.bar(x, pivot_df.get('Negative', 0), bottom=bottom, label='Negative', color='red')\n",
    "\n",
    "ax.set_xticks(x)\n",
    "ax.set_xticklabels(pivot_df['Combined'], rotation=45, ha='right')\n",
    "ax.set_ylabel(\"Number of Reviews\")\n",
    "ax.set_title(\"Sentiment Distribution by Rating Groups and Top 5 Categories\")\n",
    "ax.legend()\n",
    "\n",
    "plt.tight_layout()\n",
    "buf = io.BytesIO()\n",
    "plt.savefig(buf, format='png', bbox_inches='tight')\n",
    "plt.close()\n",
    "buf.seek(0)"
   ]
  },
  {
   "cell_type": "code",
   "execution_count": 20,
   "id": "0675b94c-db52-4f9a-9900-3616995f50e8",
   "metadata": {},
   "outputs": [
    {
     "name": "stdout",
     "output_type": "stream",
     "text": [
      "HTML with sentiment chart created successfully.\n"
     ]
    }
   ],
   "source": [
    "img_base64 = base64.b64encode(buf.read()).decode('utf-8')\n",
    "\n",
    "html_content = f\"\"\"\n",
    "<!DOCTYPE html>\n",
    "<html>\n",
    "<head>\n",
    "    <title>Sentiment Distribution Chart</title>\n",
    "</head>\n",
    "<body>\n",
    "    <h2 style=\"text-align:center;\">Sentiment Distribution by Rating Groups and Top 5 Categories</h2>\n",
    "    <div style=\"text-align:center;\">\n",
    "        <img src=\"data:image/png;base64,{img_base64}\" alt=\"Sentiment Distribution Chart\" style=\"width:90%;\">\n",
    "    </div>\n",
    "</body>\n",
    "</html>\n",
    "\"\"\"\n",
    "\n",
    "with open(\"task1.html\", \"w\") as f:\n",
    "    f.write(html_content)\n",
    "\n",
    "print(\"HTML with sentiment chart created successfully.\")"
   ]
  },
  {
   "cell_type": "code",
   "execution_count": null,
   "id": "6174c50f-fea4-4e8e-9805-3389c5976f33",
   "metadata": {},
   "outputs": [],
   "source": []
  }
 ],
 "metadata": {
  "kernelspec": {
   "display_name": "Python 3 (ipykernel)",
   "language": "python",
   "name": "python3"
  },
  "language_info": {
   "codemirror_mode": {
    "name": "ipython",
    "version": 3
   },
   "file_extension": ".py",
   "mimetype": "text/x-python",
   "name": "python",
   "nbconvert_exporter": "python",
   "pygments_lexer": "ipython3",
   "version": "3.12.7"
  }
 },
 "nbformat": 4,
 "nbformat_minor": 5
}
