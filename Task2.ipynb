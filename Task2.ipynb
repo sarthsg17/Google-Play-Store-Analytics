{
 "cells": [
  {
   "cell_type": "code",
   "execution_count": 115,
   "id": "43a3b81c-3dce-4de4-bde2-8359667c88aa",
   "metadata": {},
   "outputs": [],
   "source": [
    "import pandas as pd\n",
    "import numpy as np\n",
    "import matplotlib.pyplot as plt\n",
    "import seaborn as sns\n",
    "import datetime\n",
    "import base64\n",
    "import io"
   ]
  },
  {
   "cell_type": "code",
   "execution_count": 116,
   "id": "224c8110-69b8-421e-be40-404fff2580d4",
   "metadata": {},
   "outputs": [],
   "source": [
    "df_apps = pd.read_csv('Play Store Data.csv')\n",
    "df_reviews = pd.read_csv('User Reviews.csv')"
   ]
  },
  {
   "cell_type": "code",
   "execution_count": 117,
   "id": "dfeaf8d7-a8ad-4afc-8835-796c03fda554",
   "metadata": {},
   "outputs": [
    {
     "name": "stdout",
     "output_type": "stream",
     "text": [
      "                                                 App        Category  Rating  \\\n",
      "0     Photo Editor & Candy Camera & Grid & ScrapBook  ART_AND_DESIGN     4.1   \n",
      "1                                Coloring book moana  ART_AND_DESIGN     3.9   \n",
      "2  U Launcher Lite – FREE Live Cool Themes, Hide ...  ART_AND_DESIGN     4.7   \n",
      "3                              Sketch - Draw & Paint  ART_AND_DESIGN     4.5   \n",
      "4              Pixel Draw - Number Art Coloring Book  ART_AND_DESIGN     4.3   \n",
      "\n",
      "  Reviews  Size     Installs  Type Price Content Rating  \\\n",
      "0     159   19M      10,000+  Free     0       Everyone   \n",
      "1     967   14M     500,000+  Free     0       Everyone   \n",
      "2   87510  8.7M   5,000,000+  Free     0       Everyone   \n",
      "3  215644   25M  50,000,000+  Free     0           Teen   \n",
      "4     967  2.8M     100,000+  Free     0       Everyone   \n",
      "\n",
      "                      Genres      Last Updated         Current Ver  \\\n",
      "0               Art & Design   January 7, 2018               1.0.0   \n",
      "1  Art & Design;Pretend Play  January 15, 2018               2.0.0   \n",
      "2               Art & Design    August 1, 2018               1.2.4   \n",
      "3               Art & Design      June 8, 2018  Varies with device   \n",
      "4    Art & Design;Creativity     June 20, 2018                 1.1   \n",
      "\n",
      "    Android Ver  \n",
      "0  4.0.3 and up  \n",
      "1  4.0.3 and up  \n",
      "2  4.0.3 and up  \n",
      "3    4.2 and up  \n",
      "4    4.4 and up  \n"
     ]
    }
   ],
   "source": [
    "print(df_apps.head())"
   ]
  },
  {
   "cell_type": "code",
   "execution_count": 118,
   "id": "33a209ec-86de-4df4-a226-8c2e74c536d2",
   "metadata": {},
   "outputs": [],
   "source": [
    "df_apps['Installs'] = df_apps['Installs'].str.replace('+', '', regex=False).str.replace(',', '', regex=False)\n",
    "df_apps['Installs'] = pd.to_numeric(df_apps['Installs'], errors='coerce')"
   ]
  },
  {
   "cell_type": "code",
   "execution_count": 119,
   "id": "a34571ad-ad91-4f9d-84ae-a8d493d15bfa",
   "metadata": {},
   "outputs": [],
   "source": [
    "def size_to_mb(size):\n",
    "    if 'M' in size:\n",
    "        return float(size.replace('M', ''))\n",
    "    elif 'k' in size:\n",
    "        return float(size.replace('k', '')) / 1024  # kB to MB\n",
    "    else:\n",
    "        return np.nan\n",
    "\n",
    "df_apps['Size_MB'] = df_apps['Size'].apply(lambda x: size_to_mb(str(x)))"
   ]
  },
  {
   "cell_type": "code",
   "execution_count": 120,
   "id": "9a3feb62-62e6-4594-ba1a-dee20e939bdd",
   "metadata": {},
   "outputs": [],
   "source": [
    "df_apps['Price'] = df_apps['Price'].str.replace('$', '', regex=False)\n",
    "df_apps['Price'] = pd.to_numeric(df_apps['Price'], errors='coerce').fillna(0)"
   ]
  },
  {
   "cell_type": "code",
   "execution_count": 121,
   "id": "3f0f6bf9-7d83-419a-be01-7d6d1680e66e",
   "metadata": {},
   "outputs": [],
   "source": [
    "if 'Android Ver' in df_apps.columns:\n",
    "    df_apps['Android Ver'] = df_apps['Android Ver'].astype(str)\n",
    "    df_apps['Android Ver'] = df_apps['Android Ver'].str.extract(r'(\\d+(\\.\\d+)?)')[0]\n",
    "    df_apps['Android Ver'] = pd.to_numeric(df_apps['Android Ver'], errors='coerce')\n",
    "    android_version_filter = (df_apps['Android Ver'] > 4.0)\n",
    "else:\n",
    "    print(\"Warning: 'Android Ver' column not found. Skipping Android version filter.\")\n",
    "    android_version_filter = True\n"
   ]
  },
  {
   "cell_type": "code",
   "execution_count": 122,
   "id": "a4253690-8716-48e0-b430-1708652b5734",
   "metadata": {},
   "outputs": [],
   "source": [
    "df_apps['App_name_length'] = df_apps['App'].apply(lambda x: len(str(x)))"
   ]
  },
  {
   "cell_type": "code",
   "execution_count": 123,
   "id": "6981571e-af84-49a9-81d3-461f278131e4",
   "metadata": {},
   "outputs": [],
   "source": [
    "df_apps['Revenue'] = np.where(df_apps['Type'] == 'Paid', df_apps['Price'] * df_apps['Installs'], 0)"
   ]
  },
  {
   "cell_type": "code",
   "execution_count": 124,
   "id": "36943f8f-05a8-4043-a784-43fe7c8be031",
   "metadata": {},
   "outputs": [],
   "source": [
    "df_filtered = df_apps[(df_apps['Installs'] >= 10000) &\n",
    "                      (df_apps['Revenue'] >= 10000) &\n",
    "                      (android_version_filter) &\n",
    "                      (df_apps['Size_MB'] > 15) &\n",
    "                      (df_apps['Content Rating'] == 'Everyone') &\n",
    "                      (df_apps['App_name_length'] <= 30)]"
   ]
  },
  {
   "cell_type": "code",
   "execution_count": 125,
   "id": "0c9c97dc-4b15-4b9f-825e-cbe1f6f36725",
   "metadata": {},
   "outputs": [
    {
     "name": "stdout",
     "output_type": "stream",
     "text": [
      "Filtered dataset shape: (33, 16)\n"
     ]
    }
   ],
   "source": [
    "print(\"Filtered dataset shape:\", df_filtered.shape)"
   ]
  },
  {
   "cell_type": "code",
   "execution_count": 126,
   "id": "576ccf0b-5e36-4fbd-a44a-40d5da504234",
   "metadata": {},
   "outputs": [
    {
     "name": "stdout",
     "output_type": "stream",
     "text": [
      "Top 3 Categories: ['GAME', 'FAMILY', 'PHOTOGRAPHY']\n"
     ]
    }
   ],
   "source": [
    "top_categories = df_filtered['Category'].value_counts().head(3).index.tolist()\n",
    "print(\"Top 3 Categories:\", top_categories)"
   ]
  },
  {
   "cell_type": "code",
   "execution_count": 127,
   "id": "d46031ee-b602-4848-827c-d5be3aa2f852",
   "metadata": {},
   "outputs": [],
   "source": [
    "df_top = df_filtered[df_filtered['Category'].isin(top_categories)]"
   ]
  },
  {
   "cell_type": "code",
   "execution_count": 128,
   "id": "4d3d1d3f-09e8-4d70-a66c-10e2d14b6ec7",
   "metadata": {},
   "outputs": [
    {
     "name": "stdout",
     "output_type": "stream",
     "text": [
      "      Category  Type        Installs    Revenue\n",
      "0       FAMILY  Paid   381428.571429   796900.0\n",
      "1         GAME  Paid    71250.000000   279287.5\n",
      "2  PHOTOGRAPHY  Paid  1000000.000000  5990000.0\n"
     ]
    }
   ],
   "source": [
    "grouped = df_top.groupby(['Category', 'Type']).agg({\n",
    "    'Installs': 'mean',\n",
    "    'Revenue': 'mean'\n",
    "}).reset_index()\n",
    "\n",
    "print(grouped)"
   ]
  },
  {
   "cell_type": "code",
   "execution_count": 129,
   "id": "7f84e738-e8e1-449d-b060-8a32df64acd9",
   "metadata": {},
   "outputs": [
    {
     "name": "stderr",
     "output_type": "stream",
     "text": [
      "C:\\Users\\Sarth\\AppData\\Local\\Temp\\ipykernel_28384\\954829177.py:15: FutureWarning: \n",
      "\n",
      "Setting a gradient palette using color= is deprecated and will be removed in v0.14.0. Set `palette='dark:red'` for the same effect.\n",
      "\n",
      "  sns.pointplot(x='Category', y='Revenue', hue='Type', data=grouped, ax=ax2,\n",
      "C:\\Users\\Sarth\\AppData\\Local\\Temp\\ipykernel_28384\\954829177.py:15: UserWarning: \n",
      "\n",
      "The `join` parameter is deprecated and will be removed in v0.15.0. You can remove the line between points with `linestyle='none'`.\n",
      "\n",
      "  sns.pointplot(x='Category', y='Revenue', hue='Type', data=grouped, ax=ax2,\n"
     ]
    },
    {
     "data": {
      "text/plain": [
       "0"
      ]
     },
     "execution_count": 129,
     "metadata": {},
     "output_type": "execute_result"
    }
   ],
   "source": [
    "plt.figure(figsize=(14, 8))\n",
    "ax1 = plt.gca()\n",
    "ax2 = ax1.twinx()\n",
    "\n",
    "colors = ['#1f77b4', '#ff7f0e']  # Blue = Free, Orange = Paid\n",
    "\n",
    "all_types = ['Free', 'Paid']\n",
    "categories = grouped['Category'].unique()\n",
    "\n",
    "full_index = pd.MultiIndex.from_product([categories, all_types], names=['Category', 'Type'])\n",
    "grouped = grouped.set_index(['Category', 'Type']).reindex(full_index, fill_value=0).reset_index()\n",
    "\n",
    "sns.barplot(x='Category', y='Installs', hue='Type', data=grouped, ax=ax1, palette=colors, alpha=0.7)\n",
    "\n",
    "sns.pointplot(x='Category', y='Revenue', hue='Type', data=grouped, ax=ax2, \n",
    "              color='red', markers='o', linestyles='--', dodge=0.4, join=False, legend=False)\n",
    "\n",
    "h1, l1 = ax1.get_legend_handles_labels()\n",
    "ax1.legend(h1, l1, loc='upper left')\n",
    "\n",
    "ax1.set_ylabel('Average Installs')\n",
    "ax2.set_ylabel('Average Revenue ($)')\n",
    "ax1.set_xlabel('Category')\n",
    "plt.title('Average Installs (Bar) vs Average Revenue (Line) for Top 3 Categories')\n",
    "ax1.grid(axis='y')\n",
    "\n",
    "plt.tight_layout()\n",
    "buf = io.BytesIO()\n",
    "plt.savefig(buf, format='png', bbox_inches='tight')\n",
    "plt.close()\n",
    "buf.seek(0)"
   ]
  },
  {
   "cell_type": "code",
   "execution_count": 130,
   "id": "cc9c8915-461b-4c98-a4e4-756515d75c3e",
   "metadata": {},
   "outputs": [
    {
     "name": "stdout",
     "output_type": "stream",
     "text": [
      "Dual-axis chart HTML created successfully\n"
     ]
    }
   ],
   "source": [
    "img_base64 = base64.b64encode(buf.read()).decode('utf-8')\n",
    "\n",
    "html_content = f\"\"\"\n",
    "<!DOCTYPE html>\n",
    "<html>\n",
    "<head>\n",
    "    <title>Dual-axis Chart</title>\n",
    "    <script>\n",
    "        function isISTBetween1and2PM() {{\n",
    "            let now = new Date();\n",
    "            let istOffset = 330; // IST = UTC +5:30\n",
    "            let utc = now.getTime() + now.getTimezoneOffset() * 60000;\n",
    "            let istTime = new Date(utc + (60000 * istOffset));\n",
    "            let hour = istTime.getHours();\n",
    "            return hour >= 13 && hour < 14;\n",
    "        }}\n",
    "\n",
    "        window.onload = function () {{\n",
    "            if (isISTBetween1and2PM()) {{\n",
    "                document.getElementById(\"image-container\").style.display = \"block\";\n",
    "            }} else {{\n",
    "                document.getElementById(\"message\").style.display = \"block\";\n",
    "            }}\n",
    "        }};\n",
    "    </script>\n",
    "</head>\n",
    "<body>\n",
    "    <h2 style=\"text-align:center;\">Dual-axis chart comparing the average installs and revenue for free vs. paid apps within the top 3 app categories</h2>\n",
    "    \n",
    "    <div id=\"image-container\" style=\"display:none; text-align:center;\">\n",
    "        <img src=\"data:image/png;base64,{img_base64}\" alt=\"Dual-axis Chart\" style=\"width:90%;\">\n",
    "    </div>\n",
    "    \n",
    "    <div id=\"message\" style=\"display:none; text-align:center; font-size:20px; padding:50px;\">\n",
    "        Dual-axis chart is visible only between 1 PM and 2 PM IST.\n",
    "    </div>\n",
    "</body>\n",
    "</html>\n",
    "\"\"\"\n",
    "\n",
    "# Save HTML file\n",
    "with open(\"task2.html\", \"w\") as f:\n",
    "    f.write(html_content)\n",
    "\n",
    "print(\"Dual-axis chart HTML created successfully\")\n"
   ]
  },
  {
   "cell_type": "code",
   "execution_count": null,
   "id": "ca3e8ee8-a28a-42a5-a779-b55ce7b0875d",
   "metadata": {},
   "outputs": [],
   "source": []
  }
 ],
 "metadata": {
  "kernelspec": {
   "display_name": "Python 3 (ipykernel)",
   "language": "python",
   "name": "python3"
  },
  "language_info": {
   "codemirror_mode": {
    "name": "ipython",
    "version": 3
   },
   "file_extension": ".py",
   "mimetype": "text/x-python",
   "name": "python",
   "nbconvert_exporter": "python",
   "pygments_lexer": "ipython3",
   "version": "3.12.7"
  }
 },
 "nbformat": 4,
 "nbformat_minor": 5
}
