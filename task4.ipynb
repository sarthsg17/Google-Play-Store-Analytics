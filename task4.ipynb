{
 "cells": [
  {
   "cell_type": "code",
   "execution_count": 37,
   "id": "e64886c8-6237-475c-a214-43103eab69ff",
   "metadata": {},
   "outputs": [],
   "source": [
    "import base64\n",
    "import pandas as pd\n",
    "import numpy as np\n",
    "import matplotlib.pyplot as plt\n",
    "import seaborn as sns\n",
    "from datetime import datetime\n",
    "import pytz\n",
    "import io"
   ]
  },
  {
   "cell_type": "code",
   "execution_count": 38,
   "id": "5fc0475f-e237-46d4-bbdd-a5b1478a796d",
   "metadata": {},
   "outputs": [],
   "source": [
    "apps_df = pd.read_csv('Play Store Data.csv')"
   ]
  },
  {
   "cell_type": "code",
   "execution_count": 39,
   "id": "ca4ab1fe-b626-44ef-a2ab-2cfb4dfadf8a",
   "metadata": {},
   "outputs": [],
   "source": [
    "apps_df['Reviews'] = pd.to_numeric(apps_df['Reviews'], errors='coerce')\n",
    "apps_df_clean = apps_df.dropna(subset=['App', 'Rating', 'Category'])"
   ]
  },
  {
   "cell_type": "code",
   "execution_count": 40,
   "id": "0a7caa9d-16df-4cf8-a0d3-8b334c327cd6",
   "metadata": {},
   "outputs": [],
   "source": [
    "filtered_df = apps_df_clean[\n",
    "    apps_df_clean['App'].str.contains('C', case=False) &     \n",
    "    (apps_df_clean['Reviews'] > 10) &                        \n",
    "    (apps_df_clean['Rating'] < 4.0)                         \n",
    "]"
   ]
  },
  {
   "cell_type": "code",
   "execution_count": 41,
   "id": "cf9caf1f-34ff-49e8-a12f-5e0c37c45239",
   "metadata": {},
   "outputs": [],
   "source": [
    "category_counts = filtered_df['Category'].value_counts()\n",
    "valid_categories = category_counts[category_counts > 50].index\n",
    "filtered_df = filtered_df[filtered_df['Category'].isin(valid_categories)]"
   ]
  },
  {
   "cell_type": "code",
   "execution_count": 42,
   "id": "d218c3da-3bea-4fd6-b044-35b998a8d93d",
   "metadata": {},
   "outputs": [
    {
     "data": {
      "text/plain": [
       "0"
      ]
     },
     "execution_count": 42,
     "metadata": {},
     "output_type": "execute_result"
    }
   ],
   "source": [
    "plt.figure(figsize=(12, 6))\n",
    "sns.violinplot(data=filtered_df, x='Category', y='Rating')\n",
    "plt.xticks(rotation=45, ha='right')\n",
    "plt.title('Distribution of Ratings for App Categories (Filtered)')\n",
    "plt.tight_layout()\n",
    "buf = io.BytesIO()\n",
    "plt.savefig(buf, format='png', bbox_inches='tight')\n",
    "plt.close()\n",
    "buf.seek(0)"
   ]
  },
  {
   "cell_type": "code",
   "execution_count": 43,
   "id": "4d7b9786-ccf5-40ba-8e37-7969099f3ef2",
   "metadata": {},
   "outputs": [
    {
     "name": "stdout",
     "output_type": "stream",
     "text": [
      "✅ HTML with time-restricted embedded violin plot saved.\n"
     ]
    }
   ],
   "source": [
    "image_base64 = base64.b64encode(buf.read()).decode(\"utf-8\")\n",
    "image_tag = f'<img src=\"data:image/png;base64,{image_base64}\" alt=\"Violin Plot\" style=\"width:90%;\">'\n",
    "\n",
    "# Create HTML with embedded image and JS visibility control\n",
    "html_output = f\"\"\"\n",
    "<!DOCTYPE html>\n",
    "<html>\n",
    "<head>\n",
    "    <title>App Ratings Violin Plot</title>\n",
    "    <script>\n",
    "        function isISTBetween4and6PM() {{\n",
    "            let now = new Date();\n",
    "            let istOffset = 330; // IST = UTC +5:30\n",
    "            let utc = now.getTime() + now.getTimezoneOffset() * 60000;\n",
    "            let istTime = new Date(utc + (60000 * istOffset));\n",
    "            let hour = istTime.getHours();\n",
    "            return hour >= 16 && hour < 18;\n",
    "        }}\n",
    "\n",
    "        window.onload = function () {{\n",
    "            if (isISTBetween4and6PM()) {{\n",
    "                document.getElementById(\"plot\").style.display = \"block\";\n",
    "            }} else {{\n",
    "                document.getElementById(\"message\").style.display = \"block\";\n",
    "            }}\n",
    "        }};\n",
    "    </script>\n",
    "</head>\n",
    "<body>\n",
    "    <h2 style=\"text-align:center;\">Distribution of Ratings for App Categories</h2>\n",
    "    <p style=\"text-align:center;\">Filtered by app name containing \"C\", more than 10 reviews, rating below 4.0, and categories with over 50 apps.</p>\n",
    "    \n",
    "    <div id=\"plot\" style=\"display:none; text-align:center;\">\n",
    "        {image_tag}\n",
    "    </div>\n",
    "\n",
    "    <div id=\"message\" style=\"display:none; text-align:center; font-size:20px; padding:50px;\">\n",
    "        Violin plot is visible only between 4 PM and 6 PM IST.\n",
    "    </div>\n",
    "</body>\n",
    "</html>\n",
    "\"\"\"\n",
    "\n",
    "# Save to HTML\n",
    "with open(\"task4.html\", \"w\") as file:\n",
    "    file.write(html_output)\n",
    "\n",
    "print(\"✅ HTML with time-restricted embedded violin plot saved.\")"
   ]
  },
  {
   "cell_type": "code",
   "execution_count": null,
   "id": "89d0c9ef-83ac-466b-98ff-3016dd5189e5",
   "metadata": {},
   "outputs": [],
   "source": []
  }
 ],
 "metadata": {
  "kernelspec": {
   "display_name": "Python 3 (ipykernel)",
   "language": "python",
   "name": "python3"
  },
  "language_info": {
   "codemirror_mode": {
    "name": "ipython",
    "version": 3
   },
   "file_extension": ".py",
   "mimetype": "text/x-python",
   "name": "python",
   "nbconvert_exporter": "python",
   "pygments_lexer": "ipython3",
   "version": "3.12.7"
  }
 },
 "nbformat": 4,
 "nbformat_minor": 5
}
